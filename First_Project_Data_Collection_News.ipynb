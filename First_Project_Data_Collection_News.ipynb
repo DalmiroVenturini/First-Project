{
 "cells": [
  {
   "cell_type": "code",
   "execution_count": 11,
   "metadata": {},
   "outputs": [
    {
     "data": {
      "text/plain": [
       "{'status': 'OK',\n",
       " 'request_id': 'f54f6e5c-5dd9-4b53-b6f0-46a0f28e7f50',\n",
       " 'data': {'from_symbol': 'BTC',\n",
       "  'to_symbol': 'USD',\n",
       "  'type': 'currency',\n",
       "  'news': [{'article_title': 'Bitcoin Bull Market Intact As Risk Increases (BTC-USD)',\n",
       "    'article_url': 'https://seekingalpha.com/article/4731964-bitcoin-bull-market-intact-as-risk-increases',\n",
       "    'article_photo_url': 'https://encrypted-tbn1.gstatic.com/images?q=tbn:ANd9GcT19GDmxegMdRk4mQSsXsnxvWEYKe8oyg9LZDbmFcHjfeubK2mOL998drYIQuY',\n",
       "    'source': 'Seeking Alpha',\n",
       "    'post_time_utc': '2024-11-01 10:44:43'},\n",
       "   {'article_title': 'MicroStrategy Is Tapped Out, Short Shares And Buy Bitcoin Instead (BTC-USD)',\n",
       "    'article_url': 'https://seekingalpha.com/article/4731174-microstrategy-is-tapped-out-short-shares-buy-bitcoin-instead',\n",
       "    'article_photo_url': 'https://encrypted-tbn3.gstatic.com/images?q=tbn:ANd9GcRLroIrSH_GZO0Rii_yvPGvbhU0AhRgw1ErVAj2GUSxwfJUDbj6K_2UCyatlMs',\n",
       "    'source': 'Seeking Alpha',\n",
       "    'post_time_utc': '2024-10-30 23:46:19'},\n",
       "   {'article_title': 'BTC/USD Signal Today - 31/10: Bulls Eye New High (Chart)',\n",
       "    'article_url': 'https://www.dailyforex.com/forex-technical-analysis/2024/10/btcusd-signal-31-october-2024/219726',\n",
       "    'article_photo_url': 'https://encrypted-tbn1.gstatic.com/images?q=tbn:ANd9GcQ9Mlk8j_SFug2b5_OqiVozr5EXlzPXwBQZ4pZ0UlEpfjN25gaCkGKC56jXxk0',\n",
       "    'source': 'DailyForex',\n",
       "    'post_time_utc': '2024-10-31 07:58:40'},\n",
       "   {'article_title': 'BTC/USD: Bitcoin Knocks Out $71,000 as Looming US Elections Stir Crypto \\nAppetite',\n",
       "    'article_url': 'https://www.tradingview.com/news/tradingview:dcae2bed8094b:0-btc-usd-bitcoin-knocks-out-71-000-as-looming-us-elections-stir-crypto-appetite/',\n",
       "    'article_photo_url': 'https://encrypted-tbn0.gstatic.com/images?q=tbn:ANd9GcRk6E7nYfVRDMOjI5FPkleLmlLJJPmhKg7ByVGygblGktYo-QrJSDqx2bx7U6Q',\n",
       "    'source': 'www.tradingview.com',\n",
       "    'post_time_utc': '2024-10-29 07:09:57'},\n",
       "   {'article_title': 'Bitcoin hits ATH against Euro, nearly breaks USD – What now?',\n",
       "    'article_url': 'https://ambcrypto.com/bitcoin-hits-ath-against-euro-nearly-breaks-usd-what-now/',\n",
       "    'article_photo_url': 'https://encrypted-tbn1.gstatic.com/images?q=tbn:ANd9GcQD-dOhiyMHeAOpTr2MLhFw2GJ4JIgKD5lh3FJPW2zxIw01OmhaXnbqladEqEo',\n",
       "    'source': 'AMBCrypto',\n",
       "    'post_time_utc': '2024-10-31 22:03:23'},\n",
       "   {'article_title': 'BTC/USD: Bitcoin Nears Record as Prices Jump Above $73,500 Ahead of US \\nElection',\n",
       "    'article_url': 'https://www.tradingview.com/news/tradingview:80a490278094b:0-btc-usd-bitcoin-nears-record-as-prices-jump-above-73-500-ahead-of-us-election/',\n",
       "    'article_photo_url': 'https://encrypted-tbn3.gstatic.com/images?q=tbn:ANd9GcQAWV3Vu1zvzdsGEwNUuOFOjfeGtDJWT2OtVJ0N_Ah5NuuRYDR16SRK_DxqbQ8',\n",
       "    'source': 'www.tradingview.com',\n",
       "    'post_time_utc': '2024-10-30 09:54:09'},\n",
       "   {'article_title': 'Bitcoin price little changed on news of Satoshi Nakamoto name reveal',\n",
       "    'article_url': 'https://www.forexlive.com/Cryptocurrency/bitcoin-price-little-changed-on-news-of-satoshi-nakamoto-name-reveal-20241003/',\n",
       "    'article_photo_url': 'https://encrypted-tbn0.gstatic.com/images?q=tbn:ANd9GcTtdFspdVi3zfU_YydSjnlB-l4mHa76BeUNEUFd4YuxhT6wzlU_PeZa_nspp9o',\n",
       "    'source': 'Forexlive',\n",
       "    'post_time_utc': '2024-10-03 07:00:00'}]}}"
      ]
     },
     "execution_count": 11,
     "metadata": {},
     "output_type": "execute_result"
    }
   ],
   "source": [
    "import requests\n",
    "\n",
    "url = \"https://real-time-finance-data.p.rapidapi.com/currency-news\"\n",
    "\n",
    "querystring = {\"from_symbol\":\"BTC\",\"to_symbol\":\"USD\",\"language\":\"en\"}\n",
    "\n",
    "headers = {\n",
    "\t\"x-rapidapi-key\": \"114c2e8a73mshcadca606a90c30cp1ced37jsn7a04bf05f206\",\n",
    "\t\"x-rapidapi-host\": \"real-time-finance-data.p.rapidapi.com\"\n",
    "}\n",
    "\n",
    "response = requests.get(url, headers=headers, params=querystring)\n",
    "datos = response.json()\n",
    "\n",
    "response.json()"
   ]
  },
  {
   "cell_type": "code",
   "execution_count": 12,
   "metadata": {},
   "outputs": [
    {
     "data": {
      "text/plain": [
       "7"
      ]
     },
     "execution_count": 12,
     "metadata": {},
     "output_type": "execute_result"
    }
   ],
   "source": [
    "len(datos[\"data\"][\"news\"])"
   ]
  },
  {
   "cell_type": "code",
   "execution_count": null,
   "metadata": {},
   "outputs": [],
   "source": []
  }
 ],
 "metadata": {
  "kernelspec": {
   "display_name": "base",
   "language": "python",
   "name": "python3"
  },
  "language_info": {
   "codemirror_mode": {
    "name": "ipython",
    "version": 3
   },
   "file_extension": ".py",
   "mimetype": "text/x-python",
   "name": "python",
   "nbconvert_exporter": "python",
   "pygments_lexer": "ipython3",
   "version": "3.12.4"
  }
 },
 "nbformat": 4,
 "nbformat_minor": 2
}
